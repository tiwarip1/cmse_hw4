{
 "cells": [
  {
   "cell_type": "markdown",
   "metadata": {},
   "source": [
    "### <p style=\"text-align: right;\"> &#9989; Pranjal Tiwari</p>\n",
    "\n",
    "#### <p style=\"text-align: right;\"> &#9989; Cameron, Kyle</p>"
   ]
  },
  {
   "cell_type": "markdown",
   "metadata": {},
   "source": [
    "---\n",
    "# Homework #4: Exploring agent-based models with Mesa and modeling Spartans versus Wolverines (Individual and Group)\n",
    "\n",
    "<img src=https://s-media-cache-ak0.pinimg.com/originals/d4/d6/2d/d4d62de622cc42b04c3ed1dbeb303670.jpg width=300px>"
   ]
  },
  {
   "cell_type": "markdown",
   "metadata": {},
   "source": [
    "In this assignment, you'll be exploring how you can use the Python package \"Mesa\" to run agent-based models. Remember, one of the focuses of this class is learning how to use pre-existing software packages to solve problems. In this assignment you'll need to install Mesa, read the documention, and work through the Mesa tutorial individually. After that, you'll work with a group to use Mesa to run your own agent-based model.\n",
    "\n",
    "One of the primary motivations for this assignment, beyond thinking about agent-based models, is to get you more practice with Object-Oriented Programming (OOP). Mesa is built upon a framework of classes and functions and you'll be finding ways to inherit the functionality of those classes to build your models.\n",
    "\n",
    "**You are encouraged to read through the entire assignment before you start to make sure you understand what you're expected to do.**\n",
    "\n",
    "### Goals for this assignment:\n",
    "\n",
    "By the end of this assignment, you should be able to:\n",
    "\n",
    "* Use Mesa to run and visualize an agent-based model\n",
    "\n",
    "### Assignment instructions\n",
    "\n",
    "**This assignment is due roughly three weeks from now at 11:59pm on Sunday, March 18th.** Each member of the group should upload a copy of this notebook with the Mesa tutorial completed and notes on the brainstorming session you had with your group. It should be uploaded into the \"Homework Assignments\" dropbox folder for Homework #4.  For the group part of the assignment, you'll create a **private** GitHub repository for your group and add your professor and your TA as collaborators on that repository. Further submission instructions can be found at the end of the notebook.\n",
    "\n",
    "**Your group will be assigned by your instructor.**\n",
    "\n",
    "### Grading\n",
    "\n",
    "* Part 1: Installing and running Mesa (5 points)\n",
    "* Part 2: Brainstorming plans for your agent-based model (5 points)\n",
    "* Part 3: Running your Mesa model for Spartans versus Wolverines (15 points)\n",
    "\n",
    "Total points: **25**"
   ]
  },
  {
   "cell_type": "markdown",
   "metadata": {},
   "source": [
    "---\n",
    "## Part 1: Installing and running Mesa\n",
    "\n",
    "For this part of the assignment, you'll need to refer to the documentation for Mesa, which you can find [here](http://mesa.readthedocs.io/en/latest/index.html). Once you have things installed, if you want to explore some of the Mesa example problems, you can get some from their [GitHub repository](https://github.com/projectmesa/mesa/tree/master/examples).\n",
    "\n",
    "### Step 1: Install Mesa\n",
    "\n",
    "Use the documentation to figure out how you should install Mesa. Check that you've installed it correctly by running the following import command:\n",
    "\n",
    "`from mesa import Agent, Model`\n",
    "\n",
    "### Step 2: Work through the Mesa tutorial\n",
    "\n",
    "To make sure you understand Mesa's functionality, you now need to work through the awesome, detailed Mesa tutorial. You can find the tutorial [here](http://mesa.readthedocs.io/en/latest/tutorials/intro_tutorial.html). This tutorial has you code up a simple model for looking at how wealth distributes itself.\n",
    "\n",
    "You are expected to work through the material by taking the example code and running it inside this notebook to make sure you can get it all to work. For the next part of the assignment, you'll be working in a group to create a repository of shared scripts that run your agent-based model, so pay attention to the comments in the tutorial about how you would run Mesa using scripts -- you'll have to do that eventually!"
   ]
  },
  {
   "cell_type": "code",
   "execution_count": 1,
   "metadata": {
    "collapsed": true
   },
   "outputs": [],
   "source": [
    "# I pretty much copy pasted the code from the tutorial, but I understand how it works\n",
    "# Also, ran into some wierd error and found a solution from here: https://github.com/projectmesa/mesa/issues/341\n",
    "from mesa import Agent, Model\n",
    "from mesa.time import RandomActivation\n",
    "from mesa.space import MultiGrid\n",
    "from mesa.datacollection import DataCollector\n",
    "import mesa\n",
    "import random\n",
    "import numpy as np\n",
    "import matplotlib.pyplot as plt\n",
    "%matplotlib inline\n",
    "\n",
    "class MoneyAgent(mesa.Agent):\n",
    "    \"\"\"An agent with fixed initial wealth.\"\"\"\n",
    "    def __init__(self, unique_id, model): \n",
    "        super().__init__(unique_id, model)\n",
    "        self.wealth = 1\n",
    "\n",
    "    def step(self): \n",
    "        \"\"\"Not relevant to question\"\"\"\n",
    "        return None\n",
    "\n",
    "class MoneyModel(mesa.Model): \n",
    "    \"\"\"A model with `N` agents of size width * height.\"\"\"\n",
    "    def __init__(self, N, width, height):\n",
    "        self.initial_size = N\n",
    "        self.grid = MultiGrid(width=width, height=height, torus=True)\n",
    "        self.schedule = RandomActivation(self)\n",
    "        # Create Agents\n",
    "        for i in range(N):\n",
    "            a = MoneyAgent(i, self)\n",
    "            # Add to schedule\n",
    "            self.schedule.add(a)\n",
    "            # Add to grid\n",
    "            x = random.randrange(self.grid.width)\n",
    "            y = random.randrange(self.grid.height)\n",
    "            self.grid.place_agent(a, (x,y))\n",
    "        # Create DataCollector\n",
    "        self.datacollector = DataCollector(\n",
    "            model_reporters={\"Gini\": self.compute_gini},\n",
    "            agent_reporters={\"Wealth\": lambda a: a.wealth},\n",
    "        )\n",
    "\n",
    "    def step(self): \n",
    "        \"\"\"Advance the model by one step.\"\"\"\n",
    "        self.datacollector.collect(self)\n",
    "        self.schedule.step()\n",
    "\n",
    "    def wealth_list(self):\n",
    "        return [x.wealth for x in self.schedule.agents]\n",
    "\n",
    "    def compute_gini(self,_):\n",
    "        \"\"\"Return the Gini coefficient of \n",
    "        the current wealth distribution.\"\"\"\n",
    "        data = sorted(self.wealth_list())\n",
    "        N = self.initial_size\n",
    "        something = sum(x * (N - i) for i,x in enumerate(data))\n",
    "        something /= (N * sum(data))\n",
    "        return (1 + (1 / N) - (2 * something))"
   ]
  },
  {
   "cell_type": "code",
   "execution_count": 2,
   "metadata": {
    "collapsed": true
   },
   "outputs": [],
   "source": [
    "model = MoneyModel(50, 10, 10)\n",
    "for i in range(20):\n",
    "    model.step()"
   ]
  },
  {
   "cell_type": "code",
   "execution_count": 3,
   "metadata": {},
   "outputs": [
    {
     "data": {
      "image/png": "[encoded data removed]",
      "text/plain": [
       "<matplotlib.figure.Figure at 0x1eea84a3f60>"
      ]
     },
     "metadata": {},
     "output_type": "display_data"
    }
   ],
   "source": [
    "agent_counts = np.zeros((model.grid.width, model.grid.height))\n",
    "for cell in model.grid.coord_iter():\n",
    "    cell_content, x, y = cell\n",
    "    agent_count = len(cell_content)\n",
    "    agent_counts[x][y] = agent_count\n",
    "plt.imshow(agent_counts, interpolation='nearest')\n",
    "plt.colorbar()\n",
    "\n",
    "# If running from a text editor or IDE, remember you'll need the following:\n",
    "plt.show()"
   ]
  },
  {
   "cell_type": "markdown",
   "metadata": {},
   "source": [
    "### Step 3: Try out the advanced tutorial\n",
    "\n",
    "If you can, work through the \"Advanced Tutorial\" which has you explore Mesa's built in visualization tools.\n",
    "\n",
    "**If you're short on time, or you get stuck on this part of the activity**, talk to your group members about it. If for some reason you or your group members can't get it working, you won't be significantly penalized for not completing this portion, but you'll want to see if you can get it working so that you can visualize your group's model!"
   ]
  },
  {
   "cell_type": "code",
   "execution_count": 7,
   "metadata": {
    "collapsed": true
   },
   "outputs": [],
   "source": [
    "from mesa.visualization.modules import CanvasGrid\n",
    "from mesa.visualization.ModularVisualization import ModularServer\n",
    "from mesa.visualization.modules import ChartModule\n",
    "from mesa.visualization.UserParam import UserSettableParameter\n",
    "\n",
    "def agent_portrayal(agent):\n",
    "    portrayal = {\"Shape\": \"circle\",\n",
    "                 \"Filled\": \"true\",\n",
    "                 \"r\": 0.5}\n",
    "\n",
    "    if agent.wealth > 0:\n",
    "        portrayal[\"Color\"] = \"red\"\n",
    "        portrayal[\"Layer\"] = 0\n",
    "    else:\n",
    "        portrayal[\"Color\"] = \"grey\"\n",
    "        portrayal[\"Layer\"] = 1\n",
    "        portrayal[\"r\"] = 0.2\n",
    "    return portrayal"
   ]
  },
  {
   "cell_type": "code",
   "execution_count": 8,
   "metadata": {
    "collapsed": true
   },
   "outputs": [],
   "source": [
    "grid = CanvasGrid(agent_portrayal, 10, 10, 500, 500)\n",
    "n_slider = UserSettableParameter('slider', \"Number of Agents\", 100, 2, 200, 1)\n",
    "server = ModularServer(MoneyModel,\n",
    "                       [grid],\n",
    "                       \"Money Model\",\n",
    "                       {\"N\": 100, \"width\": 10, \"height\": 10})\n",
    "\n",
    "chart = ChartModule([{\"Label\": \"Gini\",\n",
    "                      \"Color\": \"Black\"}],\n",
    "                    data_collector_name='datacollector')\n",
    "\n",
    "server = ModularServer(MoneyModel,\n",
    "                       [grid, chart],\n",
    "                       \"Money Model\",\n",
    "                       {\"N\": n_slider, \"width\": 10, \"height\": 10})"
   ]
  },
  {
   "cell_type": "code",
   "execution_count": 9,
   "metadata": {},
   "outputs": [
    {
     "name": "stdout",
     "output_type": "stream",
     "text": [
      "Interface starting at http://127.0.0.1:8521\n"
     ]
    },
    {
     "ename": "OSError",
     "evalue": "[WinError 10048] Only one usage of each socket address (protocol/network address/port) is normally permitted",
     "output_type": "error",
     "traceback": [
      "\u001b[1;31m---------------------------------------------------------------------------\u001b[0m",
      "\u001b[1;31mOSError\u001b[0m                                   Traceback (most recent call last)",
      "\u001b[1;32m<ipython-input-9-98aeb6786778>\u001b[0m in \u001b[0;36m<module>\u001b[1;34m()\u001b[0m\n\u001b[0;32m      1\u001b[0m \u001b[0mserver\u001b[0m\u001b[1;33m.\u001b[0m\u001b[0mport\u001b[0m \u001b[1;33m=\u001b[0m \u001b[1;36m8521\u001b[0m \u001b[1;31m# The default\u001b[0m\u001b[1;33m\u001b[0m\u001b[0m\n\u001b[1;32m----> 2\u001b[1;33m \u001b[0mserver\u001b[0m\u001b[1;33m.\u001b[0m\u001b[0mlaunch\u001b[0m\u001b[1;33m(\u001b[0m\u001b[1;33m)\u001b[0m\u001b[1;33m\u001b[0m\u001b[0m\n\u001b[0m",
      "\u001b[1;32m~\\Anaconda3\\lib\\site-packages\\mesa\\visualization\\ModularVisualization.py\u001b[0m in \u001b[0;36mlaunch\u001b[1;34m(self, port)\u001b[0m\n\u001b[0;32m    320\u001b[0m         \u001b[0murl\u001b[0m \u001b[1;33m=\u001b[0m \u001b[1;34m'http://127.0.0.1:{PORT}'\u001b[0m\u001b[1;33m.\u001b[0m\u001b[0mformat\u001b[0m\u001b[1;33m(\u001b[0m\u001b[0mPORT\u001b[0m\u001b[1;33m=\u001b[0m\u001b[0mself\u001b[0m\u001b[1;33m.\u001b[0m\u001b[0mport\u001b[0m\u001b[1;33m)\u001b[0m\u001b[1;33m\u001b[0m\u001b[0m\n\u001b[0;32m    321\u001b[0m         \u001b[0mprint\u001b[0m\u001b[1;33m(\u001b[0m\u001b[1;34m'Interface starting at {url}'\u001b[0m\u001b[1;33m.\u001b[0m\u001b[0mformat\u001b[0m\u001b[1;33m(\u001b[0m\u001b[0murl\u001b[0m\u001b[1;33m=\u001b[0m\u001b[0murl\u001b[0m\u001b[1;33m)\u001b[0m\u001b[1;33m)\u001b[0m\u001b[1;33m\u001b[0m\u001b[0m\n\u001b[1;32m--> 322\u001b[1;33m         \u001b[0mself\u001b[0m\u001b[1;33m.\u001b[0m\u001b[0mlisten\u001b[0m\u001b[1;33m(\u001b[0m\u001b[0mself\u001b[0m\u001b[1;33m.\u001b[0m\u001b[0mport\u001b[0m\u001b[1;33m)\u001b[0m\u001b[1;33m\u001b[0m\u001b[0m\n\u001b[0m\u001b[0;32m    323\u001b[0m         \u001b[0mwebbrowser\u001b[0m\u001b[1;33m.\u001b[0m\u001b[0mopen\u001b[0m\u001b[1;33m(\u001b[0m\u001b[0murl\u001b[0m\u001b[1;33m)\u001b[0m\u001b[1;33m\u001b[0m\u001b[0m\n\u001b[0;32m    324\u001b[0m         \u001b[0mtornado\u001b[0m\u001b[1;33m.\u001b[0m\u001b[0mautoreload\u001b[0m\u001b[1;33m.\u001b[0m\u001b[0mstart\u001b[0m\u001b[1;33m(\u001b[0m\u001b[1;33m)\u001b[0m\u001b[1;33m\u001b[0m\u001b[0m\n",
      "\u001b[1;32m~\\Anaconda3\\lib\\site-packages\\tornado\\web.py\u001b[0m in \u001b[0;36mlisten\u001b[1;34m(self, port, address, **kwargs)\u001b[0m\n\u001b[0;32m   1941\u001b[0m         \u001b[1;32mfrom\u001b[0m \u001b[0mtornado\u001b[0m\u001b[1;33m.\u001b[0m\u001b[0mhttpserver\u001b[0m \u001b[1;32mimport\u001b[0m \u001b[0mHTTPServer\u001b[0m\u001b[1;33m\u001b[0m\u001b[0m\n\u001b[0;32m   1942\u001b[0m         \u001b[0mserver\u001b[0m \u001b[1;33m=\u001b[0m \u001b[0mHTTPServer\u001b[0m\u001b[1;33m(\u001b[0m\u001b[0mself\u001b[0m\u001b[1;33m,\u001b[0m \u001b[1;33m**\u001b[0m\u001b[0mkwargs\u001b[0m\u001b[1;33m)\u001b[0m\u001b[1;33m\u001b[0m\u001b[0m\n\u001b[1;32m-> 1943\u001b[1;33m         \u001b[0mserver\u001b[0m\u001b[1;33m.\u001b[0m\u001b[0mlisten\u001b[0m\u001b[1;33m(\u001b[0m\u001b[0mport\u001b[0m\u001b[1;33m,\u001b[0m \u001b[0maddress\u001b[0m\u001b[1;33m)\u001b[0m\u001b[1;33m\u001b[0m\u001b[0m\n\u001b[0m\u001b[0;32m   1944\u001b[0m         \u001b[1;32mreturn\u001b[0m \u001b[0mserver\u001b[0m\u001b[1;33m\u001b[0m\u001b[0m\n\u001b[0;32m   1945\u001b[0m \u001b[1;33m\u001b[0m\u001b[0m\n",
      "\u001b[1;32m~\\Anaconda3\\lib\\site-packages\\tornado\\tcpserver.py\u001b[0m in \u001b[0;36mlisten\u001b[1;34m(self, port, address)\u001b[0m\n\u001b[0;32m    140\u001b[0m         \u001b[0mthe\u001b[0m\u001b[0;31m \u001b[0m\u001b[0;31m`\u001b[0m\u001b[1;33m.\u001b[0m\u001b[0mIOLoop\u001b[0m\u001b[0;31m`\u001b[0m\u001b[1;33m.\u001b[0m\u001b[1;33m\u001b[0m\u001b[0m\n\u001b[0;32m    141\u001b[0m         \"\"\"\n\u001b[1;32m--> 142\u001b[1;33m         \u001b[0msockets\u001b[0m \u001b[1;33m=\u001b[0m \u001b[0mbind_sockets\u001b[0m\u001b[1;33m(\u001b[0m\u001b[0mport\u001b[0m\u001b[1;33m,\u001b[0m \u001b[0maddress\u001b[0m\u001b[1;33m=\u001b[0m\u001b[0maddress\u001b[0m\u001b[1;33m)\u001b[0m\u001b[1;33m\u001b[0m\u001b[0m\n\u001b[0m\u001b[0;32m    143\u001b[0m         \u001b[0mself\u001b[0m\u001b[1;33m.\u001b[0m\u001b[0madd_sockets\u001b[0m\u001b[1;33m(\u001b[0m\u001b[0msockets\u001b[0m\u001b[1;33m)\u001b[0m\u001b[1;33m\u001b[0m\u001b[0m\n\u001b[0;32m    144\u001b[0m \u001b[1;33m\u001b[0m\u001b[0m\n",
      "\u001b[1;32m~\\Anaconda3\\lib\\site-packages\\tornado\\netutil.py\u001b[0m in \u001b[0;36mbind_sockets\u001b[1;34m(port, address, family, backlog, flags, reuse_port)\u001b[0m\n\u001b[0;32m    195\u001b[0m \u001b[1;33m\u001b[0m\u001b[0m\n\u001b[0;32m    196\u001b[0m         \u001b[0msock\u001b[0m\u001b[1;33m.\u001b[0m\u001b[0msetblocking\u001b[0m\u001b[1;33m(\u001b[0m\u001b[1;36m0\u001b[0m\u001b[1;33m)\u001b[0m\u001b[1;33m\u001b[0m\u001b[0m\n\u001b[1;32m--> 197\u001b[1;33m         \u001b[0msock\u001b[0m\u001b[1;33m.\u001b[0m\u001b[0mbind\u001b[0m\u001b[1;33m(\u001b[0m\u001b[0msockaddr\u001b[0m\u001b[1;33m)\u001b[0m\u001b[1;33m\u001b[0m\u001b[0m\n\u001b[0m\u001b[0;32m    198\u001b[0m         \u001b[0mbound_port\u001b[0m \u001b[1;33m=\u001b[0m \u001b[0msock\u001b[0m\u001b[1;33m.\u001b[0m\u001b[0mgetsockname\u001b[0m\u001b[1;33m(\u001b[0m\u001b[1;33m)\u001b[0m\u001b[1;33m[\u001b[0m\u001b[1;36m1\u001b[0m\u001b[1;33m]\u001b[0m\u001b[1;33m\u001b[0m\u001b[0m\n\u001b[0;32m    199\u001b[0m         \u001b[0msock\u001b[0m\u001b[1;33m.\u001b[0m\u001b[0mlisten\u001b[0m\u001b[1;33m(\u001b[0m\u001b[0mbacklog\u001b[0m\u001b[1;33m)\u001b[0m\u001b[1;33m\u001b[0m\u001b[0m\n",
      "\u001b[1;31mOSError\u001b[0m: [WinError 10048] Only one usage of each socket address (protocol/network address/port) is normally permitted"
     ]
    }
   ],
   "source": [
    "server.port = 8521 # The default\n",
    "server.launch()"
   ]
  },
  {
   "cell_type": "markdown",
   "metadata": {},
   "source": [
    "___\n",
    "## Part 2: Brainstorming ideas for your model\n",
    "\n",
    "<img src=\"https://upload.wikimedia.org/wikipedia/en/thumb/a/a7/Michigan_State_Athletics_logo.svg/888px-Michigan_State_Athletics_logo.svg.png\" width=100px>\n",
    "### VS.\n",
    "<img src=\"https://upload.wikimedia.org/wikipedia/commons/thumb/3/3b/Michigan_Wolverines_Logo.svg/1200px-Michigan_Wolverines_Logo.svg.png\" width=100px>\n",
    "\n",
    "The goal of this part of the assignment is getting you to think about how you would use Mesa to create an agent-based model. Specifically, you'll be trying to create a \"predator-prey\" model. From an ODE/Compartmental model perspective, this class of model would be refered to as a [Lotka-Volterra model](https://en.wikipedia.org/wiki/Lotka%E2%80%93Volterra_equations), but it turns out that you can model much of the same behavior using an agent-based model where you want to actually track how these populations move spatially. Here's an example of a [wolf-sheep agent-based model](http://netlogoweb.org/launch#http://netlogoweb.org/assets/modelslib/Sample%20Models/Biology/Wolf%20Sheep%20Predation.nlogo) made using NetLogo (which is a coding language specifically built for running agent-based models).\n",
    "\n",
    "To remind yourself of the agent-based models we've done the past, think about Conway's Game of Life and the ant foraging model. You might want to take a peek as the ant_class.py script from a while back to remind yourself a bit about OOP.\n",
    "\n",
    "For the group part of your assignment, you're going to implement an agent-based model using the Mesa framework. For this model, you'll have the following agents in your model:\n",
    "\n",
    "1. Spartans (predators)\n",
    "2. Wolverines (prey)\n",
    "\n",
    "In this scenario, you'll assume that Spartans hunt Wolverines as a food source. To prepare for writing your code, discuss your ideas with your group, either in person or Slack, and **answer the following questions**:\n",
    "\n",
    "1. How will the Spartans and Wolverines move about in your 2D world? Think about what directions you'll allow them to move in.\n",
    "1. Will you take into account birth and death rates of your agents? How will you handle that?\n",
    "1. What happens when Spartans and Wolverines interact? Does the Spartan _always_ kill the Wolverine?\n",
    "1. What happens when a Spartan runs into another Spartan?\n",
    "1. What happens when a Wolverine run into another Wolverine?\n",
    "1. Do Wolverines have a food source? If so, how would you model that?\n",
    "1. Can you think of a third agent you might want to add to your system? If so, what would be it be?\n",
    "1. How would you go about visualizing your simulation?"
   ]
  },
  {
   "cell_type": "markdown",
   "metadata": {},
   "source": [
    "**Answers to the above questions**\n",
    "\n",
    "<ol>\n",
    "  <li>The model should use the Moore methodology of moving agents, where they can move to adjacent cells and diagonally</li>\n",
    "  <li>Lets just assume Spartans and Wolverines undergo mitosis to reproduce, so there is a random chance that the entity will reproduce if enough food is present, for wolverines this is always the case, so they have a set change to reproduce. But since Spartans have Wolverines as food sources, a certain number of them must die to produce another spartan. Both spartans and wolverines should have a set death rate as a random percentage, but wolverines are subject to death by spartan, while the reverse is not true</li>\n",
    "  <li>There is a percentage change that a spartan kills a wolverine but only if they are nearby</li>\n",
    "  <li>If a spartan runs into another spartan, they will have a wonderful discussion about how much of a wimp the wolverines are and continue on their way, this will ofcourse happen on the same cell</li>\n",
    "  <li>If a wolverine runs into another wolverine, they will wonder why they even bother existing if they're just food for the superior spartans and move on, all of which will be in the same cell</li>\n",
    "  <li>Lets assume the wolverines are like sheep, where the grass is their food source, which is ever present in the environment and is never in short supply thoughout the year</li>\n",
    "  <li>To make this more accurate to an ecosystem where multiple layer of predator and prey exist, we could add another agent that is a food source for wolverines, maybe the buckeyes. Or we could say that food sources are less present every certain ticks to simulate a winter season</li>\n",
    "  <li>I was thinking we could use either the heat map or the visulization offered by meas in the advanced tutorial to show the grid along with a plot of the number of wolverines to spartans</li>\n",
    "</ol>"
   ]
  },
  {
   "cell_type": "markdown",
   "metadata": {},
   "source": [
    "---\n",
    "## Part 3: Creating your agent-based model with Mesa\n",
    "\n",
    "For this part of the assignment, you're going to work in groups of 3 to build a predator-prey model using the Mesa package. Mesa is designed to build and run agent-based models, but you have to set up the properties of your model and define how agents move and interact within your model. If necessary, review the nature of [Predator-Prey models](https://en.wikipedia.org/wiki/Lotka%E2%80%93Volterra_equations), [population dynamics](https://en.wikipedia.org/wiki/Population_dynamics), and [agent-based modeling](https://en.wikipedia.org/wiki/Agent-based_model).\n",
    "\n",
    "For your model, the **predators will be Spartans** and the **prey will be Wolverines**. You should be able to use the documentation for Mesa to guide yourselve through setting up the model.\n",
    "\n",
    "Since building such a model completely from scratch can be complicated and time consuming you're going to start off by using the pre-made Wolf-Sheep model provided in the Mesa \"examples\" folder on GitHub. You should be able to clone the whole Mesa repository, which you can find [here](https://github.com/projectmesa/mesa), but the part that you really need is the \"Wolf-Sheep Predation Model\", which is located [here](https://github.com/projectmesa/mesa/tree/master/examples/wolf_sheep).\n",
    "\n",
    "The very first thing that should you do is run the Wolf-Sheep model to make sure that it works. Then, **as a group**, you will work to modify the model. You should figure out how to divide up the work so that each person in the group can help to contribute to a shared GitHub repository. **Each person in the group is responsible for making commits to your shared repository**. The very first thing you might want to do is to create the repository and make sure everyone has access to it so that you can start adding files and making changes.\n",
    "\n",
    "Here are some ideas for modifications you can make to the wolf-sheep model to make it unique to your Spartans-Wolverines model, but don't limit yourself to just these:\n",
    "\n",
    "* Modify the visualization so that the images that are displayed are appropriate for your model (i.e. it shouldn't still display wolves and sheep).\n",
    "* Update the objects/variables to be appropriate for your model\n",
    "* Add new rules and interactions to the model (e.g. what happens with a Spartan runs into a Spartan or a Wolverine runs into a Wolverine?)\n",
    "\n",
    "Since meeting with your group in person can sometimes be difficult to coordinate, you should consider dividing up the work so that everyone can work on the code separately and push and pull changes to your repository. A good way to handle this is to assign specific tasks to each person, such tasks might be:\n",
    "\n",
    "* Implement a new rule for the agent-based model\n",
    "* Update the variables names to correspond to your new model\n",
    "* Improve the visualization of your model\n",
    "\n",
    "### Your completed model must do the following:\n",
    "\n",
    "1. Include at least one new element that does not already exist in the wolf-sheep model. This could be a new agent, a new rule, modifications to existing rules or some combination of all of this.\n",
    "2. Modify the visualization so that it is different than the default and makes sense for your model.\n",
    "3. Run successfully so that the instructor can see how it works.\n",
    "\n",
    "### In addition, your project must meet the following code requirements (read these carefully!):\n",
    "\n",
    "1. Your code must be documented!\n",
    "    - You should include adequate comments and docstrings when appropriate.\n",
    "    - You should choose reasonable variables that make it easy to understand your code.\n",
    "2. Your code should be written as a set of scripts, **it should not just run inside a jupyter notebook** (but you can provide a notebook with examples for presentation purposes, if you wish)\n",
    "    - You should include a README.md file that explains how one should go about running your code and what modifications you made to the default model.\n",
    "3. Your code should be contained in a **private** Git repository hosted on GitHub and your instructors (professor and TA) should be added as collaborators on your repository so that they can clone and run your code.\n",
    "    - Each member of the group **must make at least one commit** to the code repository.\n",
    "    - Your README file should contain information about who contributed what to the completed code.\n"
   ]
  },
  {
   "cell_type": "markdown",
   "metadata": {},
   "source": [
    "---\n",
    "## Assignment wrap-up\n",
    "\n",
    "Please fill out the form that appears when you run the code below.  **You must completely fill this out in order to receive credit for the assignment!**"
   ]
  },
  {
   "cell_type": "code",
   "execution_count": null,
   "metadata": {
    "collapsed": true
   },
   "outputs": [],
   "source": [
    "from IPython.display import HTML\n",
    "HTML(\n",
    "\"\"\"\n",
    "<iframe \n",
    "\tsrc=\"https://goo.gl/forms/Hfd00adXg893c7TN2\" \n",
    "\twidth=\"80%\" \n",
    "\theight=\"800px\" \n",
    "\tframeborder=\"0\" \n",
    "\tmarginheight=\"0\" \n",
    "\tmarginwidth=\"0\">\n",
    "\tLoading...\n",
    "</iframe>\n",
    "\"\"\"\n",
    ")"
   ]
  },
  {
   "cell_type": "markdown",
   "metadata": {},
   "source": [
    "___\n",
    "# Congrats, you're done!\n",
    "\n",
    "Each person in the group should upload a copy of this notebook to the \"Homework #4\" dropbox on D2l. This notebook should contain the completed Mesa tutorial and your notes from your model brainstorming session. Your instructors should be added as collaborators on your **private** GitHub repository and there should be a README in the repository that explains how to run and visualize your model. If the instructor or TA can't get your model to run, they won't be able to give you a grade!"
   ]
  }
 ],
 "metadata": {
  "kernelspec": {
   "display_name": "Python 3",
   "language": "python",
   "name": "python3"
  },
  "language_info": {
   "codemirror_mode": {
    "name": "ipython",
    "version": 3
   },
   "file_extension": ".py",
   "mimetype": "text/x-python",
   "name": "python",
   "nbconvert_exporter": "python",
   "pygments_lexer": "ipython3",
   "version": "3.6.3"
  }
 },
 "nbformat": 4,
 "nbformat_minor": 2
}
