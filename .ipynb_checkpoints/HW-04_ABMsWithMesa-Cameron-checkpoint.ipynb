{
 "cells": [
  {
   "cell_type": "markdown",
   "metadata": {},
   "source": [
    "### <p style=\"text-align: right;\"> &#9989; Put your name here</p>\n",
    "\n",
    "#### <p style=\"text-align: right;\"> &#9989; Put the names of your group members here</p>"
   ]
  },
  {
   "cell_type": "markdown",
   "metadata": {},
   "source": [
    "---\n",
    "# Homework #4: Exploring agent-based models with Mesa and modeling Spartans versus Wolverines (Individual and Group)\n",
    "\n",
    "<img src=https://s-media-cache-ak0.pinimg.com/originals/d4/d6/2d/d4d62de622cc42b04c3ed1dbeb303670.jpg width=300px>"
   ]
  },
  {
   "cell_type": "markdown",
   "metadata": {},
   "source": [
    "In this assignment, you'll be exploring how you can use the Python package \"Mesa\" to run agent-based models. Remember, one of the focuses of this class is learning how to use pre-existing software packages to solve problems. In this assignment you'll need to install Mesa, read the documention, and work through the Mesa tutorial individually. After that, you'll work with a group to use Mesa to run your own agent-based model.\n",
    "\n",
    "One of the primary motivations for this assignment, beyond thinking about agent-based models, is to get you more practice with Object-Oriented Programming (OOP). Mesa is built upon a framework of classes and functions and you'll be finding ways to inherit the functionality of those classes to build your models.\n",
    "\n",
    "**You are encouraged to read through the entire assignment before you start to make sure you understand what you're expected to do.**\n",
    "\n",
    "### Goals for this assignment:\n",
    "\n",
    "By the end of this assignment, you should be able to:\n",
    "\n",
    "* Use Mesa to run and visualize an agent-based model\n",
    "\n",
    "### Assignment instructions\n",
    "\n",
    "**This assignment is due roughly three weeks from now at 11:59pm on Sunday, March 18th.** Each member of the group should upload a copy of this notebook with the Mesa tutorial completed and notes on the brainstorming session you had with your group. It should be uploaded into the \"Homework Assignments\" dropbox folder for Homework #4.  For the group part of the assignment, you'll create a **private** GitHub repository for your group and add your professor and your TA as collaborators on that repository. Further submission instructions can be found at the end of the notebook.\n",
    "\n",
    "**Your group will be assigned by your instructor.**\n",
    "\n",
    "### Grading\n",
    "\n",
    "* Part 1: Installing and running Mesa (5 points)\n",
    "* Part 2: Brainstorming plans for your agent-based model (5 points)\n",
    "* Part 3: Running your Mesa model for Spartans versus Wolverines (15 points)\n",
    "\n",
    "Total points: **25**"
   ]
  },
  {
   "cell_type": "markdown",
   "metadata": {},
   "source": [
    "---\n",
    "## Part 1: Installing and running Mesa\n",
    "\n",
    "For this part of the assignment, you'll need to refer to the documentation for Mesa, which you can find [here](http://mesa.readthedocs.io/en/latest/index.html). Once you have things installed, if you want to explore some of the Mesa example problems, you can get some from their [GitHub repository](https://github.com/projectmesa/mesa/tree/master/examples).\n",
    "\n",
    "### Step 1: Install Mesa\n",
    "\n",
    "Use the documentation to figure out how you should install Mesa. Check that you've installed it correctly by running the following import command:\n",
    "\n",
    "`from mesa import Agent, Model`\n",
    "\n",
    "### Step 2: Work through the Mesa tutorial\n",
    "\n",
    "To make sure you understand Mesa's functionality, you now need to work through the awesome, detailed Mesa tutorial. You can find the tutorial [here](http://mesa.readthedocs.io/en/latest/tutorials/intro_tutorial.html). This tutorial has you code up a simple model for looking at how wealth distributes itself.\n",
    "\n",
    "You are expected to work through the material by taking the example code and running it inside this notebook to make sure you can get it all to work. For the next part of the assignment, you'll be working in a group to create a repository of shared scripts that run your agent-based model, so pay attention to the comments in the tutorial about how you would run Mesa using scripts -- you'll have to do that eventually!"
   ]
  },
  {
   "cell_type": "code",
   "execution_count": 159,
   "metadata": {
    "collapsed": true
   },
   "outputs": [],
   "source": [
    "from mesa import Agent, Model\n",
    "from mesa.time import RandomActivation\n",
    "from mesa.space import MultiGrid\n",
    "from mesa.datacollection import DataCollector\n",
    "import random\n",
    "import pandas as pd\n",
    "import numpy as np\n",
    "import matplotlib.pyplot as plt\n",
    "%matplotlib inline"
   ]
  },
  {
   "cell_type": "code",
   "execution_count": 175,
   "metadata": {},
   "outputs": [],
   "source": [
    "# Put your Mesa tutorial code here!\n",
    "class MoneyAgent(Agent):\n",
    "  \n",
    "    def __init__(self, ID, model):\n",
    "        super().__init__(ID, model)\n",
    "        self.wealth = 1\n",
    "        self.ID = ID\n",
    "\n",
    "    def step(self):\n",
    "        #print(\"{} activated\".format(self.ID))\n",
    "        self.move()\n",
    "        if self.wealth > 0:\n",
    "            self.give_money()\n",
    "            \n",
    "    def move(self):\n",
    "        possible_steps = self.model.grid.get_neighborhood(\n",
    "            self.pos,\n",
    "            moore = True,\n",
    "            include_center = False)\n",
    "        new_position = random.choice(possible_steps)\n",
    "        self.model.grid.move_agent(self, new_position)\n",
    "    \n",
    "    def give_money(self):\n",
    "        cellmates = self.model.grid.get_cell_list_contents([self.pos])\n",
    "        if len(cellmates) > 1:\n",
    "            other = random.choice(cellmates)\n",
    "            other.wealth += 1\n",
    "            self.wealth -= 1\n",
    "    \n",
    "def compute_gini(model):\n",
    "    agent_wealths = [agent.wealth for agent in model.schedule.agents]\n",
    "    x = sorted(agent_wealths)\n",
    "    N = model.agents\n",
    "    B = sum( xi * (N-i) for i,xi in enumerate(x) ) / (N*sum(x))\n",
    "    return (1 + (1/N) - 2*B)\n",
    "    \n",
    "class MoneyModel(Model):\n",
    "\n",
    "    def __init__(self, N, width, height):\n",
    "        self.agents = N\n",
    "        self.schedule = RandomActivation(self)\n",
    "        self.grid = MultiGrid(width, height, True)\n",
    "        \n",
    "        for i in range(self.agents):\n",
    "            a = MoneyAgent(i, self)\n",
    "            self.schedule.add(a)\n",
    "            \n",
    "            x = random.randrange(self.grid.width)\n",
    "            y = random.randrange(self.grid.height)\n",
    "            self.grid.place_agent(a, (x, y))\n",
    "        \n",
    "        self.datacollector = DataCollector(\n",
    "            model_reporters={\"Gini\": compute_gini},\n",
    "            agent_reporters={\"Wealth\": \"wealth\"})\n",
    "\n",
    "    def step(self):\n",
    "        self.datacollector.collect(self)\n",
    "        self.schedule.step()\n",
    "        "
   ]
  },
  {
   "cell_type": "code",
   "execution_count": 176,
   "metadata": {},
   "outputs": [],
   "source": [
    "model = MoneyModel(50, 10, 10)\n",
    "for i in range(100):\n",
    "    model.step()"
   ]
  },
  {
   "cell_type": "code",
   "execution_count": 177,
   "metadata": {
    "scrolled": false
   },
   "outputs": [
    {
     "data": {
      "text/plain": [
       "<matplotlib.axes._subplots.AxesSubplot at 0x1bcb208ac18>"
      ]
     },
     "execution_count": 177,
     "metadata": {},
     "output_type": "execute_result"
    },
    {
     "data": {
      "image/png": "[encoded data removed]",
      "text/plain": [
       "<matplotlib.figure.Figure at 0x1bcb2010860>"
      ]
     },
     "metadata": {},
     "output_type": "display_data"
    }
   ],
   "source": [
    "gini = model.datacollector.get_model_vars_dataframe()\n",
    "gini.plot()"
   ]
  },
  {
   "cell_type": "markdown",
   "metadata": {},
   "source": [
    "### Step 3: Try out the advanced tutorial\n",
    "\n",
    "If you can, work through the \"Advanced Tutorial\" which has you explore Mesa's built in visualization tools.\n",
    "\n",
    "**If you're short on time, or you get stuck on this part of the activity**, talk to your group members about it. If for some reason you or your group members can't get it working, you won't be significantly penalized for not completing this portion, but you'll want to see if you can get it working so that you can visualize your group's model!"
   ]
  },
  {
   "cell_type": "code",
   "execution_count": null,
   "metadata": {
    "collapsed": true
   },
   "outputs": [],
   "source": [
    "# Put your code for the advanced tutorial here!\n"
   ]
  },
  {
   "cell_type": "markdown",
   "metadata": {},
   "source": [
    "___\n",
    "## Part 2: Brainstorming ideas for your model\n",
    "\n",
    "<img src=\"https://upload.wikimedia.org/wikipedia/en/thumb/a/a7/Michigan_State_Athletics_logo.svg/888px-Michigan_State_Athletics_logo.svg.png\" width=100px>\n",
    "### VS.\n",
    "<img src=\"https://upload.wikimedia.org/wikipedia/commons/thumb/3/3b/Michigan_Wolverines_Logo.svg/1200px-Michigan_Wolverines_Logo.svg.png\" width=100px>\n",
    "\n",
    "The goal of this part of the assignment is getting you to think about how you would use Mesa to create an agent-based model. Specifically, you'll be trying to create a \"predator-prey\" model. From an ODE/Compartmental model perspective, this class of model would be refered to as a [Lotka-Volterra model](https://en.wikipedia.org/wiki/Lotka%E2%80%93Volterra_equations), but it turns out that you can model much of the same behavior using an agent-based model where you want to actually track how these populations move spatially. Here's an example of a [wolf-sheep agent-based model](http://netlogoweb.org/launch#http://netlogoweb.org/assets/modelslib/Sample%20Models/Biology/Wolf%20Sheep%20Predation.nlogo) made using NetLogo (which is a coding language specifically built for running agent-based models).\n",
    "\n",
    "To remind yourself of the agent-based models we've done the past, think about Conway's Game of Life and the ant foraging model. You might want to take a peek as the ant_class.py script from a while back to remind yourself a bit about OOP.\n",
    "\n",
    "For the group part of your assignment, you're going to implement an agent-based model using the Mesa framework. For this model, you'll have the following agents in your model:\n",
    "\n",
    "1. Spartans (predators)\n",
    "2. Wolverines (prey)\n",
    "\n",
    "In this scenario, you'll assume that Spartans hunt Wolverines as a food source. To prepare for writing your code, discuss your ideas with your group, either in person or Slack, and **answer the following questions**:\n",
    "\n",
    "1. How will the Spartans and Wolverines move about in your 2D world? Think about what directions you'll allow them to move in.\n",
    "1. Will you take into account birth and death rates of your agents? How will you handle that?\n",
    "1. What happens when Spartans and Wolverines interact? Does the Spartan _always_ kill the Wolverine?\n",
    "1. What happens when a Spartan runs into another Spartan?\n",
    "1. What happens when a Wolverine run into another Wolverine?\n",
    "1. Do Wolverines have a food source? If so, how would you model that?\n",
    "1. Can you think of a third agent you might want to add to your system? If so, what would be it be?\n",
    "1. How would you go about visualizing your simulation?"
   ]
  },
  {
   "cell_type": "markdown",
   "metadata": {},
   "source": [
    "**Answers**\n",
    "1. We will be using the Moore Method. The agent will move to any cell that it touches\n",
    "2. All agents will use mitosis to reporduce. Spartans will only reproduce when there are enough Wolverines to feed them. Wolverines will repodcue with a given defined chance. There will be no food needed for them. All agents will have a given death rate. Wolverines will have an added term based on the Spartan population.\n",
    "3. There will be a percent chance of a Spartan-Wolverine interaction killing the Wolverine.\n",
    "4. Nothing occurs in a Spartan-Spartan interaction\n",
    "5. Nothing occurs in a Wolverine-Wolverine interaction\n",
    "6. Wolverines will have a food source, however, it will never run out or run low\n",
    "7. It would be possible to add an extra predator, like Buckeyes that would also prey on Wolverines and compete with Spartans.\n",
    "8. Heat maps or mesa visualizations"
   ]
  },
  {
   "cell_type": "markdown",
   "metadata": {},
   "source": [
    "---\n",
    "## Part 3: Creating your agent-based model with Mesa\n",
    "\n",
    "For this part of the assignment, you're going to work in groups of 3 to build a predator-prey model using the Mesa package. Mesa is designed to build and run agent-based models, but you have to set up the properties of your model and define how agents move and interact within your model. If necessary, review the nature of [Predator-Prey models](https://en.wikipedia.org/wiki/Lotka%E2%80%93Volterra_equations), [population dynamics](https://en.wikipedia.org/wiki/Population_dynamics), and [agent-based modeling](https://en.wikipedia.org/wiki/Agent-based_model).\n",
    "\n",
    "For your model, the **predators will be Spartans** and the **prey will be Wolverines**. You should be able to use the documentation for Mesa to guide yourselve through setting up the model.\n",
    "\n",
    "Since building such a model completely from scratch can be complicated and time consuming you're going to start off by using the pre-made Wolf-Sheep model provided in the Mesa \"examples\" folder on GitHub. You should be able to clone the whole Mesa repository, which you can find [here](https://github.com/projectmesa/mesa), but the part that you really need is the \"Wolf-Sheep Predation Model\", which is located [here](https://github.com/projectmesa/mesa/tree/master/examples/wolf_sheep).\n",
    "\n",
    "The very first thing that should you do is run the Wolf-Sheep model to make sure that it works. Then, **as a group**, you will work to modify the model. You should figure out how to divide up the work so that each person in the group can help to contribute to a shared GitHub repository. **Each person in the group is responsible for making commits to your shared repository**. The very first thing you might want to do is to create the repository and make sure everyone has access to it so that you can start adding files and making changes.\n",
    "\n",
    "Here are some ideas for modifications you can make to the wolf-sheep model to make it unique to your Spartans-Wolverines model, but don't limit yourself to just these:\n",
    "\n",
    "* Modify the visualization so that the images that are displayed are appropriate for your model (i.e. it shouldn't still display wolves and sheep).\n",
    "* Update the objects/variables to be appropriate for your model\n",
    "* Add new rules and interactions to the model (e.g. what happens with a Spartan runs into a Spartan or a Wolverine runs into a Wolverine?)\n",
    "\n",
    "Since meeting with your group in person can sometimes be difficult to coordinate, you should consider dividing up the work so that everyone can work on the code separately and push and pull changes to your repository. A good way to handle this is to assign specific tasks to each person, such tasks might be:\n",
    "\n",
    "* Implement a new rule for the agent-based model\n",
    "* Update the variables names to correspond to your new model\n",
    "* Improve the visualization of your model\n",
    "\n",
    "### Your completed model must do the following:\n",
    "\n",
    "1. Include at least one new element that does not already exist in the wolf-sheep model. This could be a new agent, a new rule, modifications to existing rules or some combination of all of this.\n",
    "2. Modify the visualization so that it is different than the default and makes sense for your model.\n",
    "3. Run successfully so that the instructor can see how it works.\n",
    "\n",
    "### In addition, your project must meet the following code requirements (read these carefully!):\n",
    "\n",
    "1. Your code must be documented!\n",
    "    - You should include adequate comments and docstrings when appropriate.\n",
    "    - You should choose reasonable variables that make it easy to understand your code.\n",
    "2. Your code should be written as a set of scripts, **it should not just run inside a jupyter notebook** (but you can provide a notebook with examples for presentation purposes, if you wish)\n",
    "    - You should include a README.md file that explains how one should go about running your code and what modifications you made to the default model.\n",
    "3. Your code should be contained in a **private** Git repository hosted on GitHub and your instructors (professor and TA) should be added as collaborators on your repository so that they can clone and run your code.\n",
    "    - Each member of the group **must make at least one commit** to the code repository.\n",
    "    - Your README file should contain information about who contributed what to the completed code.\n"
   ]
  },
  {
   "cell_type": "markdown",
   "metadata": {},
   "source": [
    "---\n",
    "## Assignment wrap-up\n",
    "\n",
    "Please fill out the form that appears when you run the code below.  **You must completely fill this out in order to receive credit for the assignment!**"
   ]
  },
  {
   "cell_type": "code",
   "execution_count": null,
   "metadata": {
    "collapsed": true
   },
   "outputs": [],
   "source": [
    "from IPython.display import HTML\n",
    "HTML(\n",
    "\"\"\"\n",
    "<iframe \n",
    "\tsrc=\"https://goo.gl/forms/Hfd00adXg893c7TN2\" \n",
    "\twidth=\"80%\" \n",
    "\theight=\"800px\" \n",
    "\tframeborder=\"0\" \n",
    "\tmarginheight=\"0\" \n",
    "\tmarginwidth=\"0\">\n",
    "\tLoading...\n",
    "</iframe>\n",
    "\"\"\"\n",
    ")"
   ]
  },
  {
   "cell_type": "markdown",
   "metadata": {},
   "source": [
    "___\n",
    "# Congrats, you're done!\n",
    "\n",
    "Each person in the group should upload a copy of this notebook to the \"Homework #4\" dropbox on D2l. This notebook should contain the completed Mesa tutorial and your notes from your model brainstorming session. Your instructors should be added as collaborators on your **private** GitHub repository and there should be a README in the repository that explains how to run and visualize your model. If the instructor or TA can't get your model to run, they won't be able to give you a grade!"
   ]
  }
 ],
 "metadata": {
  "kernelspec": {
   "display_name": "Python 3",
   "language": "python",
   "name": "python3"
  },
  "language_info": {
   "codemirror_mode": {
    "name": "ipython",
    "version": 3
   },
   "file_extension": ".py",
   "mimetype": "text/x-python",
   "name": "python",
   "nbconvert_exporter": "python",
   "pygments_lexer": "ipython3",
   "version": "3.6.3"
  }
 },
 "nbformat": 4,
 "nbformat_minor": 2
}
